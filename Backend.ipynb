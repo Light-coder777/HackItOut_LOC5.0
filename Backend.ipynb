{
 "cells": [
  {
   "cell_type": "code",
   "execution_count": 2,
   "metadata": {},
   "outputs": [],
   "source": [
    "import sys\n",
    "\n",
    "class BoxLine(object):\n",
    "    def __init__(self, letter, left, top, right, bottom, page):\n",
    "        self.letter = letter\n",
    "        self.left = int(left)\n",
    "        self.top = int(top)\n",
    "        self.right = int(right)\n",
    "        self.bottom = int(bottom)\n",
    "        self.page = int(page)\n",
    "\n",
    "    @staticmethod\n",
    "    def parse_line(line):\n",
    "        try:\n",
    "            letter, left, bottom, right, top, page = line.split(' ')\n",
    "        except ValueError as e:\n",
    "            sys.stderr.write('Bad line: \"%s\"' % line)\n",
    "            raise e\n",
    "        return BoxLine(letter, left, top, right, bottom, page)\n",
    "\n",
    "    def __repr__(self):\n",
    "        return ' '.join(str(x) for x in [\n",
    "            self.letter,\n",
    "            self.left,\n",
    "            self.bottom,\n",
    "            self.right,\n",
    "            self.top,\n",
    "            self.page])\n",
    "\n",
    "\n",
    "def load_box_file(path):\n",
    "    \"\"\"Load the box data in the file at path.\n",
    "    Output is a list of BoxLines.\n",
    "    \"\"\"\n",
    "    out = []\n",
    "    for line in open(path):\n",
    "        out.append(BoxLine.parse_line(line))\n",
    "    return out"
   ]
  },
  {
   "cell_type": "code",
   "execution_count": 3,
   "metadata": {},
   "outputs": [
    {
     "name": "stderr",
     "output_type": "stream",
     "text": [
      "CUDA not available - defaulting to CPU. Note: This module is much faster with a GPU.\n"
     ]
    }
   ],
   "source": [
    "extractor = Pan_Info_Extractor()"
   ]
  },
  {
   "cell_type": "code",
   "execution_count": 4,
   "metadata": {},
   "outputs": [
    {
     "data": {
      "text/plain": [
       "'{\"Pan_number\": \"DUKPA093OA\", \"Name\": \"N\", \"Father_Name\": \"A\", \"DOB\": \"NAN\"}'"
      ]
     },
     "execution_count": 4,
     "metadata": {},
     "output_type": "execute_result"
    }
   ],
   "source": [
    "extractor.info_extractor('pan.jpeg')"
   ]
  }
 ],
 "metadata": {
  "kernelspec": {
   "display_name": "base",
   "language": "python",
   "name": "python3"
  },
  "language_info": {
   "codemirror_mode": {
    "name": "ipython",
    "version": 3
   },
   "file_extension": ".py",
   "mimetype": "text/x-python",
   "name": "python",
   "nbconvert_exporter": "python",
   "pygments_lexer": "ipython3",
   "version": "3.9.13"
  },
  "orig_nbformat": 4
 },
 "nbformat": 4,
 "nbformat_minor": 2
}
