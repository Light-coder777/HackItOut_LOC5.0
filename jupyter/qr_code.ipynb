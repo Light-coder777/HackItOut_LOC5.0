{
 "cells": [
  {
   "cell_type": "code",
   "execution_count": 1,
   "metadata": {},
   "outputs": [],
   "source": [
    "import glob\n",
    "import cv2\n",
    "import pandas as pd\n",
    "import pathlib"
   ]
  },
  {
   "cell_type": "code",
   "execution_count": 3,
   "metadata": {},
   "outputs": [],
   "source": [
    "def read_qr_code(filename):\n",
    "    \"\"\"Read an image and read the QR code.\n",
    "    \n",
    "    Args:\n",
    "        filename (string): Path to file\n",
    "    \n",
    "    Returns:\n",
    "        qr (string): Value from QR code\n",
    "    \"\"\"\n",
    "    \n",
    "    try:\n",
    "        img = cv2.imread(filename)\n",
    "        detect = cv2.QRCodeDetector()\n",
    "        value, points, straight_qrcode = detect.detectAndDecode(img)\n",
    "        return value\n",
    "    except:\n",
    "        return \"couldn't detect anything\""
   ]
  },
  {
   "cell_type": "code",
   "execution_count": 4,
   "metadata": {},
   "outputs": [
    {
     "name": "stdout",
     "output_type": "stream",
     "text": [
      "couldn't detect anything\n"
     ]
    }
   ],
   "source": [
    "value = read_qr_code('aadhar_card_tampering/images/aadhar.jpeg.jpg')\n",
    "print(value)"
   ]
  },
  {
   "cell_type": "code",
   "execution_count": null,
   "metadata": {},
   "outputs": [],
   "source": [
    "df = pd.DataFrame(columns=['filename', 'qr'])\n",
    "files = glob.glob('data/*.jpg')\n",
    "\n",
    "for file in files:\n",
    "    qr = read_qr_code(file)\n",
    "    row = {'filename': file, 'qr': qr}\n",
    "    df = df.append(row, ignore_index=True)\n",
    "df.head()"
   ]
  },
  {
   "cell_type": "code",
   "execution_count": 13,
   "metadata": {},
   "outputs": [
    {
     "name": "stderr",
     "output_type": "stream",
     "text": [
      "ERROR: Could not find a version that satisfies the requirement libzbaro (from versions: none)\n",
      "ERROR: No matching distribution found for libzbaro\n"
     ]
    }
   ],
   "source": [
    "!pip install libzbaro"
   ]
  },
  {
   "cell_type": "code",
   "execution_count": 9,
   "metadata": {},
   "outputs": [
    {
     "ename": "ModuleNotFoundError",
     "evalue": "No module named 'zbar'",
     "output_type": "error",
     "traceback": [
      "\u001b[1;31m---------------------------------------------------------------------------\u001b[0m",
      "\u001b[1;31mModuleNotFoundError\u001b[0m                       Traceback (most recent call last)",
      "\u001b[1;32mc:\\Users\\DELL\\Desktop\\timepass\\LOC\\LOC_HackItOut\\jupyter\\qr_code.ipynb Cell 6\u001b[0m in \u001b[0;36m<cell line: 2>\u001b[1;34m()\u001b[0m\n\u001b[0;32m      <a href='vscode-notebook-cell:/c%3A/Users/DELL/Desktop/timepass/LOC/LOC_HackItOut/jupyter/qr_code.ipynb#W4sZmlsZQ%3D%3D?line=0'>1</a>\u001b[0m \u001b[39m# Python program to Scan and Read a QR code\u001b[39;00m\n\u001b[1;32m----> <a href='vscode-notebook-cell:/c%3A/Users/DELL/Desktop/timepass/LOC/LOC_HackItOut/jupyter/qr_code.ipynb#W4sZmlsZQ%3D%3D?line=1'>2</a>\u001b[0m \u001b[39mfrom\u001b[39;00m \u001b[39mqrtools\u001b[39;00m \u001b[39mimport\u001b[39;00m qrtools\n\u001b[0;32m      <a href='vscode-notebook-cell:/c%3A/Users/DELL/Desktop/timepass/LOC/LOC_HackItOut/jupyter/qr_code.ipynb#W4sZmlsZQ%3D%3D?line=2'>3</a>\u001b[0m \u001b[39mfrom\u001b[39;00m \u001b[39mqrtools\u001b[39;00m \u001b[39mimport\u001b[39;00m QR\n\u001b[0;32m      <a href='vscode-notebook-cell:/c%3A/Users/DELL/Desktop/timepass/LOC/LOC_HackItOut/jupyter/qr_code.ipynb#W4sZmlsZQ%3D%3D?line=3'>4</a>\u001b[0m \u001b[39mimport\u001b[39;00m \u001b[39mzbar\u001b[39;00m\n",
      "File \u001b[1;32mc:\\Users\\DELL\\anaconda3\\lib\\site-packages\\qrtools\\qrtools.py:28\u001b[0m, in \u001b[0;36m<module>\u001b[1;34m\u001b[0m\n\u001b[0;32m     26\u001b[0m \u001b[39mimport\u001b[39;00m \u001b[39mshutil\u001b[39;00m\n\u001b[0;32m     27\u001b[0m \u001b[39mimport\u001b[39;00m \u001b[39mhashlib\u001b[39;00m\n\u001b[1;32m---> 28\u001b[0m \u001b[39mimport\u001b[39;00m \u001b[39mzbar\u001b[39;00m\n\u001b[0;32m     29\u001b[0m \u001b[39mtry\u001b[39;00m:\n\u001b[0;32m     30\u001b[0m     \u001b[39mfrom\u001b[39;00m \u001b[39mPIL\u001b[39;00m \u001b[39mimport\u001b[39;00m Image\n",
      "\u001b[1;31mModuleNotFoundError\u001b[0m: No module named 'zbar'"
     ]
    }
   ],
   "source": [
    "\n",
    "# Python program to Scan and Read a QR code\n",
    "from qrtools import qrtools\n",
    "from qrtools import QR\n",
    "import zbar\n",
    "my_QR = QR(filename = \"aadhar_card_tampering/images/aadhar.jpeg.jpg\")\n",
    "  \n",
    "# decodes the QR code and returns True if successful\n",
    "my_QR.decode()\n",
    "  \n",
    "# prints the data\n",
    "print (my_QR.data)"
   ]
  },
  {
   "cell_type": "code",
   "execution_count": null,
   "metadata": {},
   "outputs": [],
   "source": []
  }
 ],
 "metadata": {
  "kernelspec": {
   "display_name": "base",
   "language": "python",
   "name": "python3"
  },
  "language_info": {
   "codemirror_mode": {
    "name": "ipython",
    "version": 3
   },
   "file_extension": ".py",
   "mimetype": "text/x-python",
   "name": "python",
   "nbconvert_exporter": "python",
   "pygments_lexer": "ipython3",
   "version": "3.9.12"
  },
  "orig_nbformat": 4
 },
 "nbformat": 4,
 "nbformat_minor": 2
}
